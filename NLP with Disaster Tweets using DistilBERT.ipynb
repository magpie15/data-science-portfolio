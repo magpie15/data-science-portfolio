{
 "cells": [
  {
   "cell_type": "markdown",
   "id": "064bd842",
   "metadata": {},
   "source": [
    "## Natural Language Processing with Disaster Tweets"
   ]
  },
  {
   "cell_type": "markdown",
   "id": "c80684b0",
   "metadata": {},
   "source": [
    "#### Predict which Tweets are about real disasters and which ones are not"
   ]
  },
  {
   "cell_type": "markdown",
   "id": "f850b53e",
   "metadata": {},
   "source": [
    "Competition Description\n",
    "\n",
    "Twitter has become an important communication channel in times of emergency.\n",
    "The ubiquitousness of smartphones enables people to announce an emergency they’re observing in real-time. Because of this, more agencies are interested in programatically monitoring Twitter (i.e. disaster relief organizations and news agencies)."
   ]
  },
  {
   "cell_type": "markdown",
   "id": "819bf19b",
   "metadata": {},
   "source": [
    "Acknowledgments\n",
    "\n",
    "This dataset was created by the company figure-eight and originally shared on their ‘Data For Everyone’ website here.\n",
    "\n",
    "Tweet source: https://twitter.com/AnyOtherAnnaK/status/629195955506708480"
   ]
  },
  {
   "cell_type": "markdown",
   "id": "4aab23e1",
   "metadata": {},
   "source": [
    "### Strategy:\n",
    "\n",
    "##### I will attempt to use an off the shelf DistilBERT Model from Hugging Face to make the predictions. The data will need to be processed accordingly so that I may fine tune the Model correctly. I will then check and see if the predictions made are accurate. \n",
    "\n",
    "1. Data Preprocessing: An original training data csv has been provided but I will still need to split the training data in order to evaluate the model's performance. I will then use the DistilBERT Tokenizer to tokenize both training and test data being sure to do some padding and including the attention mask for the pretrained model.\n",
    "<br />\n",
    "<br />\n",
    "2. I will then compile the pretrained model and train it with the prepared data (Fine Tuning) for a minimum of three epochs. The model's performance will then be evaluated. I plan to make my own function that takes a tweet as an input and outputs a binary response (Disaster or not Disaster) using the fine tuned model. In this way I can test how it responds to real world data. \n"
   ]
  },
  {
   "cell_type": "code",
   "execution_count": 1,
   "id": "cffacf80",
   "metadata": {},
   "outputs": [],
   "source": [
    "import torch\n",
    "import pandas as pd\n",
    "from sklearn.model_selection import train_test_split\n",
    "from transformers import DistilBertTokenizer, DistilBertModel, AdamW\n",
    "from torch.utils.data import TensorDataset, DataLoader, RandomSampler, SequentialSampler\n",
    "import numpy as np"
   ]
  },
  {
   "cell_type": "code",
   "execution_count": 2,
   "id": "e02059aa",
   "metadata": {},
   "outputs": [],
   "source": [
    "from matplotlib import pyplot as plt\n",
    "from sklearn.metrics import confusion_matrix\n",
    "import seaborn as sns\n",
    "import nltk\n",
    "from nltk.corpus import stopwords\n",
    "import re"
   ]
  },
  {
   "cell_type": "code",
   "execution_count": 3,
   "id": "f5a278c3",
   "metadata": {},
   "outputs": [],
   "source": [
    "from sklearn.metrics import accuracy_score, precision_score, recall_score, f1_score"
   ]
  },
  {
   "cell_type": "code",
   "execution_count": 4,
   "id": "8eadb527",
   "metadata": {},
   "outputs": [],
   "source": [
    "from transformers import TFDistilBertForSequenceClassification"
   ]
  },
  {
   "cell_type": "code",
   "execution_count": 5,
   "id": "a4f0bc8e",
   "metadata": {},
   "outputs": [],
   "source": [
    "import tensorflow as tf"
   ]
  },
  {
   "cell_type": "code",
   "execution_count": 6,
   "id": "7c92e587",
   "metadata": {
    "scrolled": false
   },
   "outputs": [
    {
     "name": "stderr",
     "output_type": "stream",
     "text": [
      "Truncation was not explicitly activated but `max_length` is provided a specific value, please use `truncation=True` to explicitly truncate examples to max length. Defaulting to 'longest_first' truncation strategy. If you encode pairs of sequences (GLUE-style) with the tokenizer you can select this strategy more precisely by providing a specific strategy to `truncation`.\n",
      "C:\\Users\\matthewgomez\\miniconda3\\envs\\disaster_nlp\\lib\\site-packages\\transformers\\tokenization_utils_base.py:2354: FutureWarning: The `pad_to_max_length` argument is deprecated and will be removed in a future version, use `padding=True` or `padding='longest'` to pad to the longest sequence in the batch, or use `padding='max_length'` to pad to a max length. In this case, you can give a specific length with `max_length` (e.g. `max_length=45`) or leave max_length to None to pad to the maximal input size of the model (e.g. 512 for Bert).\n",
      "  warnings.warn(\n",
      "Some layers from the model checkpoint at distilbert-base-uncased were not used when initializing TFDistilBertForSequenceClassification: ['vocab_layer_norm', 'vocab_projector', 'vocab_transform', 'activation_13']\n",
      "- This IS expected if you are initializing TFDistilBertForSequenceClassification from the checkpoint of a model trained on another task or with another architecture (e.g. initializing a BertForSequenceClassification model from a BertForPreTraining model).\n",
      "- This IS NOT expected if you are initializing TFDistilBertForSequenceClassification from the checkpoint of a model that you expect to be exactly identical (initializing a BertForSequenceClassification model from a BertForSequenceClassification model).\n",
      "Some layers of TFDistilBertForSequenceClassification were not initialized from the model checkpoint at distilbert-base-uncased and are newly initialized: ['pre_classifier', 'dropout_19', 'classifier']\n",
      "You should probably TRAIN this model on a down-stream task to be able to use it for predictions and inference.\n"
     ]
    },
    {
     "name": "stdout",
     "output_type": "stream",
     "text": [
      "Epoch 1/3\n",
      "191/191 [==============================] - 1224s 6s/step - loss: 0.4400 - val_loss: 0.3906\n",
      "Epoch 2/3\n",
      "191/191 [==============================] - 1236s 6s/step - loss: 0.3146 - val_loss: 0.4059\n",
      "Epoch 3/3\n",
      "191/191 [==============================] - 1262s 7s/step - loss: 0.2095 - val_loss: 0.4505\n"
     ]
    }
   ],
   "source": [
    "# Load the dataset into a Pandas DataFrame\n",
    "original_test_data = pd.read_csv('nlp-getting-started/test.csv')\n",
    "training_data = pd.read_csv('nlp-getting-started/train.csv')\n",
    "\n",
    "# Split the dataset into training, validation, and testing sets\n",
    "train_df, test_df = train_test_split(training_data, test_size=0.2, random_state=42)\n",
    "train_df, val_df = train_test_split(training_data, test_size=0.2, random_state=42)\n",
    "\n",
    "# Load the DistilBERT tokenizer\n",
    "tokenizer = DistilBertTokenizer.from_pretrained('distilbert-base-uncased')\n",
    "\n",
    "# Preprocess the text data\n",
    "def preprocess(text):\n",
    "    # Tokenize the text into a sequence of tokens\n",
    "    tokens = tokenizer.encode_plus(text,\n",
    "                                    add_special_tokens=True,\n",
    "                                    max_length=128,\n",
    "                                    pad_to_max_length=True,\n",
    "                                    return_attention_mask=True,\n",
    "                                    return_token_type_ids=False)\n",
    "    return np.array(tokens['input_ids']), np.array(tokens['attention_mask'])\n",
    "\n",
    "train_text = train_df['text'].apply(preprocess)\n",
    "val_text = val_df['text'].apply(preprocess)\n",
    "test_text = test_df['text'].apply(preprocess)\n",
    "\n",
    "train_input_ids = np.vstack(train_text.apply(lambda x: x[0]))\n",
    "train_attention_masks = np.vstack(train_text.apply(lambda x: x[1]))\n",
    "\n",
    "val_input_ids = np.vstack(val_text.apply(lambda x: x[0]))\n",
    "val_attention_masks = np.vstack(val_text.apply(lambda x: x[1]))\n",
    "\n",
    "test_input_ids = np.vstack(test_text.apply(lambda x: x[0]))\n",
    "test_attention_masks = np.vstack(test_text.apply(lambda x: x[1]))\n",
    "\n",
    "train_labels = train_df['target'].values\n",
    "val_labels = val_df['target'].values\n",
    "test_labels = test_df['target'].values\n",
    "\n",
    "# Build the DistilBERT model\n",
    "model = TFDistilBertForSequenceClassification.from_pretrained('distilbert-base-uncased', num_labels=2)\n",
    "\n",
    "# Train the model\n",
    "loss = tf.keras.losses.SparseCategoricalCrossentropy(from_logits = True)\n",
    "optimizer = tf.keras.optimizers.Adam(learning_rate=5e-5)\n",
    "model.compile(optimizer=optimizer, loss=loss)\n",
    "history = model.fit([train_input_ids, train_attention_masks],\n",
    "                    train_labels,\n",
    "                    validation_data=([val_input_ids, val_attention_masks], val_labels),\n",
    "                    epochs=3,\n",
    "                    batch_size=32)"
   ]
  },
  {
   "cell_type": "markdown",
   "id": "89a3ba19",
   "metadata": {},
   "source": [
    "#### Note:\n",
    "The training did not take very long comparing it to fine tuning a full BERT Model. (It took about one hour) The initial results look quite promising, seeing as the loss was reduced by a fair amount every epoch. "
   ]
  },
  {
   "cell_type": "code",
   "execution_count": 7,
   "id": "2bde615c",
   "metadata": {},
   "outputs": [
    {
     "name": "stdout",
     "output_type": "stream",
     "text": [
      "48/48 [==============================] - 84s 2s/step\n",
      "Test Accuracy: 0.8220617202889035\n",
      "Test Precision: 0.7925696594427245\n",
      "Test Recall: 0.7889060092449923\n",
      "Test F1 Score: 0.7907335907335907\n"
     ]
    }
   ],
   "source": [
    "# Evaluate the model on the test set\n",
    "test_preds = model.predict([test_input_ids, test_attention_masks])\n",
    "test_preds = np.argmax(test_preds.logits, axis=-1)\n",
    "test_accuracy = accuracy_score(test_labels, test_preds)\n",
    "test_precision = precision_score(test_labels, test_preds)\n",
    "test_recall = recall_score(test_labels, test_preds)\n",
    "test_f1 = f1_score(test_labels, test_preds)\n",
    "print('Test Accuracy:', test_accuracy)\n",
    "print('Test Precision:', test_precision)\n",
    "print('Test Recall:', test_recall)\n",
    "print('Test F1 Score:', test_f1)"
   ]
  },
  {
   "cell_type": "markdown",
   "id": "3d10338f",
   "metadata": {},
   "source": [
    "#### Note:\n",
    "The results are fairly good, with an accuracy score of over 80 percent, I do expect the model to predict tweets fairly well. Of more concern is the F1 Score which is also fairly good. This means the model is making accurate positive and negative predictions. I'm excited to see how well it does on real world data. "
   ]
  },
  {
   "cell_type": "code",
   "execution_count": 8,
   "id": "a2b41d04",
   "metadata": {},
   "outputs": [
    {
     "data": {
      "text/plain": [
       "Text(103.24999999999999, 0.5, 'Actual')"
      ]
     },
     "execution_count": 8,
     "metadata": {},
     "output_type": "execute_result"
    },
    {
     "data": {
      "image/png": "[encoded data removed]",
      "text/plain": [
       "<Figure size 1200x900 with 1 Axes>"
      ]
     },
     "metadata": {},
     "output_type": "display_data"
    }
   ],
   "source": [
    "# Generate Confusion Matrix\n",
    "cm = confusion_matrix(test_labels, test_preds, normalize = \"true\")\n",
    "\n",
    "plt.figure(figsize = (12, 9))\n",
    "sns.set(font_scale = 2)\n",
    "\n",
    "ax = sns.heatmap(cm, annot = True, \n",
    "                xticklabels = ['True', 'False'],\n",
    "                yticklabels = ['True', 'False'],\n",
    "                cbar = False, cmap = 'Greens',\n",
    "                fmt = '.1%', annot_kws = {\"fontsize\":40})\n",
    "ax.set_xlabel(\"Prediction\")\n",
    "ax.set_ylabel(\"Actual\")"
   ]
  },
  {
   "cell_type": "markdown",
   "id": "4a705873",
   "metadata": {},
   "source": [
    "#### Note:\n",
    "As expected, it would seem the model is fairly accurate at predicting both Disaster and Non-Disaster Tweets. It does seem to be making more false positive predictions which might be expected as the data has slightly more positive (Disaster Tweets) than Non Disaster Tweets. This could perhaps be improved if the target labels in the data were more balanced."
   ]
  },
  {
   "cell_type": "code",
   "execution_count": 9,
   "id": "ab2115dc",
   "metadata": {},
   "outputs": [
    {
     "name": "stdout",
     "output_type": "stream",
     "text": [
      "Model: \"tf_distil_bert_for_sequence_classification\"\n",
      "_________________________________________________________________\n",
      " Layer (type)                Output Shape              Param #   \n",
      "=================================================================\n",
      " distilbert (TFDistilBertMai  multiple                 66362880  \n",
      " nLayer)                                                         \n",
      "                                                                 \n",
      " pre_classifier (Dense)      multiple                  590592    \n",
      "                                                                 \n",
      " classifier (Dense)          multiple                  1538      \n",
      "                                                                 \n",
      " dropout_19 (Dropout)        multiple                  0         \n",
      "                                                                 \n",
      "=================================================================\n",
      "Total params: 66,955,010\n",
      "Trainable params: 66,955,010\n",
      "Non-trainable params: 0\n",
      "_________________________________________________________________\n"
     ]
    }
   ],
   "source": [
    "model.summary()"
   ]
  },
  {
   "cell_type": "markdown",
   "id": "15a01c75",
   "metadata": {},
   "source": [
    "#### Note:\n",
    "A powerful little transformer model."
   ]
  },
  {
   "cell_type": "code",
   "execution_count": 10,
   "id": "46ee4da8",
   "metadata": {},
   "outputs": [],
   "source": [
    "#model.save('predictDisasterTweets_DistilBERT')"
   ]
  },
  {
   "cell_type": "markdown",
   "id": "3f1eaea0",
   "metadata": {},
   "source": [
    "If you want to avoid this warning message and ensure that your custom layers and functions are properly saved within the SavedModel format, you can use the tf.keras.models.save_model() function instead. This function allows you to specify custom objects to be included in the saved model, which will ensure that the custom layers and functions are properly traced and saved.\n",
    "\n",
    "For example, if your model includes a custom layer called MyCustomLayer, you can save the model using the save_model() function and specify the custom layer as follows:"
   ]
  },
  {
   "cell_type": "code",
   "execution_count": 11,
   "id": "d0ed102b",
   "metadata": {},
   "outputs": [],
   "source": [
    "def predict_tweet(tweet, model, tokenizer):\n",
    "    # Tokenize the tweet\n",
    "    encoded_tweet = tokenizer(tweet, truncation=True, padding=True, return_tensors='tf')\n",
    "\n",
    "    # Convert BatchEncoding to dictionary\n",
    "    encoded_tweet_dict = {k: v.numpy() for k, v in encoded_tweet.items()}\n",
    "\n",
    "    # Make a prediction\n",
    "    prediction = model.predict(encoded_tweet_dict)[0]\n",
    "\n",
    "    # Get the predicted class label\n",
    "    label = tf.argmax(prediction, axis=1)\n",
    "    \n",
    "    return label.numpy()[0]"
   ]
  },
  {
   "cell_type": "code",
   "execution_count": 12,
   "id": "1e6d015d",
   "metadata": {},
   "outputs": [
    {
     "name": "stdout",
     "output_type": "stream",
     "text": [
      "1/1 [==============================] - 2s 2s/step\n"
     ]
    },
    {
     "data": {
      "text/plain": [
       "0"
      ]
     },
     "execution_count": 12,
     "metadata": {},
     "output_type": "execute_result"
    }
   ],
   "source": [
    "tweet = 'I have a headache, get me some water!'\n",
    "predict_tweet(tweet, model, tokenizer)"
   ]
  },
  {
   "cell_type": "markdown",
   "id": "ae929d7c",
   "metadata": {},
   "source": [
    "The model seems to be performing rather well and I am happy to submit it for the Kaggle Competition. "
   ]
  }
 ],
 "metadata": {
  "kernelspec": {
   "display_name": "Python 3 (ipykernel)",
   "language": "python",
   "name": "python3"
  },
  "language_info": {
   "codemirror_mode": {
    "name": "ipython",
    "version": 3
   },
   "file_extension": ".py",
   "mimetype": "text/x-python",
   "name": "python",
   "nbconvert_exporter": "python",
   "pygments_lexer": "ipython3",
   "version": "3.9.16"
  }
 },
 "nbformat": 4,
 "nbformat_minor": 5
}
